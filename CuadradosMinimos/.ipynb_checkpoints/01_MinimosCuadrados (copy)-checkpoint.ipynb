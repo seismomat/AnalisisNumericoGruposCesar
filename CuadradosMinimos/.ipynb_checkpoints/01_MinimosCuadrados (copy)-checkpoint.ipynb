{
 "cells": [
  {
   "cell_type": "markdown",
   "metadata": {
    "colab_type": "text",
    "id": "view-in-github"
   },
   "source": [
    "<a href=\"https://colab.research.google.com/github/jugernaut/Numerico2021/blob/master/05_MinimosCuadrados/01_MinimosCuadrados.ipynb\" target=\"_parent\"><img src=\"https://colab.research.google.com/assets/colab-badge.svg\" alt=\"Open In Colab\"/></a>"
   ]
  },
  {
   "cell_type": "markdown",
   "metadata": {
    "id": "xkGesOA0Yhps"
   },
   "source": [
    "<font color=\"Teal\" face=\"Comic Sans MS,arial\">\n",
    "  <h1 align=\"center\"><i>Mínimos Cuadrados </i></h1>\n",
    "  </font>\n",
    "  <font color=\"Black\" face=\"Comic Sans MS,arial\">\n",
    "  <h5 align=\"center\"><i>Profesor: M.en.C. César Carreon.</i></h5>\n",
    "    <h5 align=\"center\"><i>Ayudante: Jesús Iván Coss Calderón.</i></h5>\n",
    "  <h5 align=\"center\"><i>Materia: Análisis Numérico.</i></h5>\n",
    "  </font>"
   ]
  },
  {
   "cell_type": "code",
   "execution_count": 12,
   "metadata": {},
   "outputs": [
    {
     "data": {
      "text/plain": [
       "<matplotlib.collections.PathCollection at 0x7f2f45b56970>"
      ]
     },
     "execution_count": 12,
     "metadata": {},
     "output_type": "execute_result"
    },
    {
     "data": {
      "image/png": "[encoded data removed]",
      "text/plain": [
       "<Figure size 432x288 with 1 Axes>"
      ]
     },
     "metadata": {
      "needs_background": "light"
     },
     "output_type": "display_data"
    }
   ],
   "source": [
    "import random\n",
    "import matplotlib.pyplot as plt\n",
    "import numpy as np\n",
    " \n",
    "def gen_data(n, bias, varianza):\n",
    "    x = []\n",
    "    y = []\n",
    "    z = []\n",
    "    for i in range(0, n):\n",
    "        x.append(i)\n",
    "        y.append((i + bias) + random.uniform(0, 1) * varianza)\n",
    "    return x, y\n",
    " \n",
    "x,b = gen_data(100, 25, 50)\n",
    "plt.scatter(x, b)"
   ]
  },
  {
   "cell_type": "code",
   "execution_count": 13,
   "metadata": {},
   "outputs": [],
   "source": [
    "class Invertion:\n",
    "    ## A es un numpy array de dos dimensiones\n",
    "\n",
    "    def __init__(self, A):\n",
    "        self.A=A\n",
    "    \n",
    "    def Cholesky(self):\n",
    "        n=self.A.shape[0]\n",
    "        self.L=np.zeros_like(self.A)\n",
    "\n",
    "        for k in range(n):\n",
    "            for i in range(k+1):\n",
    "                if k==i:\n",
    "                    sum=0.0\n",
    "                    for j in range(k):\n",
    "                        sum+= self.L[k][j]*self.L[k][j]\n",
    "                    self.L[k][k]=np.sqrt(self.A[k][k]-sum)\n",
    "\n",
    "                else:\n",
    "                    sum=0.0\n",
    "                    for j in range(i):\n",
    "                        sum+= self.L[i][j]*self.L[k][j]\n",
    "                    self.L[k][i]=(self.A[k][i]-sum)/self.L[i][i]\n",
    "        return self.L"
   ]
  },
  {
   "cell_type": "code",
   "execution_count": 14,
   "metadata": {},
   "outputs": [],
   "source": [
    "class Sust:\n",
    "\tdef __init__(self,L,U,b):\n",
    "\t\tself.L=L\n",
    "\t\tself.U=U\n",
    "\t\tself.b=b\n",
    "\t\tself.sustDelante()\n",
    "\t\tself.sustAtras()\n",
    "\n",
    "\tdef sustDelante(self):\n",
    "\t\tn=len(self.L)\n",
    "\t\tself.y=np.empty_like(self.b)\n",
    "\t\tself.y[0] = self.b[0]/self.L[0][0]\n",
    "\t\tfor i in range(1,n):\n",
    "\t\t\tself.y[i] = self.b[i]\n",
    "\t\t\tfor j in range(0,i):\n",
    "\t\t\t\tself.y[i] -= self.L[i][j]*self.y[j]\n",
    "\t\t\tself.y[i] /= self.L[i][i]\n",
    "\n",
    "\tdef sustAtras(self):\n",
    "\t\tn=len(self.U)\n",
    "\t\tself.x=np.empty_like(self.y)\n",
    "\t\tself.x[n-1] = self.y[n-1]/self.U[n-1][n-1]\n",
    "\t\tfor i in range(n-2,-1,-1):\n",
    "\t\t\tself.x[i] = self.y[i]\n",
    "\t\t\tfor j in range(i+1,n):\n",
    "\t\t\t\tself.x[i] -= self.U[i][j]*self.x[j]\n",
    "\t\t\tself.x[i] /= self.U[i][i]\n",
    "\n",
    "\tdef get_Solve(self):\n",
    "\t\treturn self.x"
   ]
  },
  {
   "cell_type": "code",
   "execution_count": 15,
   "metadata": {},
   "outputs": [],
   "source": [
    "A=np.zeros((len(b),2))\n",
    "A[:,0]=1.0\n",
    "A[:,1]=np.array(x)"
   ]
  },
  {
   "cell_type": "code",
   "execution_count": 16,
   "metadata": {},
   "outputs": [],
   "source": [
    "AT_A=A.T@A\n",
    "AT_b=A.T@b"
   ]
  },
  {
   "cell_type": "code",
   "execution_count": 17,
   "metadata": {},
   "outputs": [
    {
     "data": {
      "text/plain": [
       "(46.442970908212786, 1.0831152454197133)"
      ]
     },
     "execution_count": 17,
     "metadata": {},
     "output_type": "execute_result"
    }
   ],
   "source": [
    "def SolveCholesky():\n",
    "    method=Invertion(AT_A)\n",
    "    L=method.Cholesky()\n",
    "    S=Sust(L,L.T,AT_b)\n",
    "    x_g=S.get_Solve()\n",
    "    return x_g\n",
    "\n",
    "alpha,beta=SolveCholesky()\n",
    "alpha,beta"
   ]
  },
  {
   "cell_type": "code",
   "execution_count": 18,
   "metadata": {},
   "outputs": [
    {
     "data": {
      "image/png": "[encoded data removed]",
      "text/plain": [
       "<Figure size 432x288 with 1 Axes>"
      ]
     },
     "metadata": {
      "needs_background": "light"
     },
     "output_type": "display_data"
    }
   ],
   "source": [
    "y_new=beta*np.array(x)+alpha\n",
    "\n",
    "plt.scatter(x, b,color='red')\n",
    "plt.plot(x,y_new,color='black')\n",
    "plt.grid()"
   ]
  },
  {
   "cell_type": "markdown",
   "metadata": {
    "id": "e6eTatg4Yhp5"
   },
   "source": [
    "## Referencias\n",
    "\n",
    "*   http://matematicas.uis.edu.co/sites/default/files/paginas/archivos/Minimos%20Cuadrados%20%281%29.pdf\n",
    "*   https://www.iartificial.net/regresion-lineal-con-ejemplos-en-python/#Aprendizaje_El_metodo_de_los_minimos_cuadrados\n",
    "*   https://www.iartificial.net/gradiente-descendiente-para-aprendizaje-automatico/\n",
    "*   Richard L. Burden, J. Douglas Faires, Análisis Numérico, Math Learning.\n",
    "*   Yuri N. Skiba, Introducción a los Métodos Numéricos.\n",
    "*   Riswan Butt, Numerical Analysys Using Matlab, Jones and Bartlett.\n",
    "*   Ward Cheney, David Kincaid, Métodos Numéricos y Computación, Cenage Learning.\n",
    "*   Justin Solomon: Numerical Algorithms.\n",
    "*   Jaan Kiusalaas: Numerical Methods in Engineering with Python.\n",
    "*   http://www.ehu.eus/izaballa/Ana_Matr/Apuntes/lec8.pdf\n",
    "*   http://pcmap.unizar.es/~mpala/C_N_lecci/CN_1II2_SELdir.pdf\n"
   ]
  }
 ],
 "metadata": {
  "colab": {
   "collapsed_sections": [],
   "include_colab_link": true,
   "name": "Minimos_cuadrados.ipynb",
   "provenance": [],
   "toc_visible": true
  },
  "kernelspec": {
   "display_name": "Python 3 (ipykernel)",
   "language": "python",
   "name": "python3"
  },
  "language_info": {
   "codemirror_mode": {
    "name": "ipython",
    "version": 3
   },
   "file_extension": ".py",
   "mimetype": "text/x-python",
   "name": "python",
   "nbconvert_exporter": "python",
   "pygments_lexer": "ipython3",
   "version": "3.8.10"
  },
  "widgets": {
   "application/vnd.jupyter.widget-state+json": {
    "0c29c8ee87074520b9fcb595096b06f5": {
     "model_module": "@jupyter-widgets/controls",
     "model_name": "VBoxModel",
     "state": {
      "_dom_classes": [
       "widget-interact"
      ],
      "_model_module": "@jupyter-widgets/controls",
      "_model_module_version": "1.5.0",
      "_model_name": "VBoxModel",
      "_view_count": null,
      "_view_module": "@jupyter-widgets/controls",
      "_view_module_version": "1.5.0",
      "_view_name": "VBoxView",
      "box_style": "",
      "children": [
       "IPY_MODEL_401719539f044bd791cf4b125a46699d",
       "IPY_MODEL_0e0d2c3649ff436ea6ed11595f563ac6",
       "IPY_MODEL_980cdff8cc32467aaf276a8dd8a096c2"
      ],
      "layout": "IPY_MODEL_ab13895ea165410186b7572fa2fc856a"
     }
    },
    "0dbc956691dc40d8abb911be3243d97a": {
     "model_module": "@jupyter-widgets/base",
     "model_name": "LayoutModel",
     "state": {
      "_model_module": "@jupyter-widgets/base",
      "_model_module_version": "1.2.0",
      "_model_name": "LayoutModel",
      "_view_count": null,
      "_view_module": "@jupyter-widgets/base",
      "_view_module_version": "1.2.0",
      "_view_name": "LayoutView",
      "align_content": null,
      "align_items": null,
      "align_self": null,
      "border": null,
      "bottom": null,
      "display": null,
      "flex": null,
      "flex_flow": null,
      "grid_area": null,
      "grid_auto_columns": null,
      "grid_auto_flow": null,
      "grid_auto_rows": null,
      "grid_column": null,
      "grid_gap": null,
      "grid_row": null,
      "grid_template_areas": null,
      "grid_template_columns": null,
      "grid_template_rows": null,
      "height": null,
      "justify_content": null,
      "justify_items": null,
      "left": null,
      "margin": null,
      "max_height": null,
      "max_width": null,
      "min_height": null,
      "min_width": null,
      "object_fit": null,
      "object_position": null,
      "order": null,
      "overflow": null,
      "overflow_x": null,
      "overflow_y": null,
      "padding": null,
      "right": null,
      "top": null,
      "visibility": null,
      "width": null
     }
    },
    "0e0d2c3649ff436ea6ed11595f563ac6": {
     "model_module": "@jupyter-widgets/controls",
     "model_name": "IntSliderModel",
     "state": {
      "_dom_classes": [],
      "_model_module": "@jupyter-widgets/controls",
      "_model_module_version": "1.5.0",
      "_model_name": "IntSliderModel",
      "_view_count": null,
      "_view_module": "@jupyter-widgets/controls",
      "_view_module_version": "1.5.0",
      "_view_name": "IntSliderView",
      "continuous_update": true,
      "description": "beta",
      "description_tooltip": null,
      "disabled": false,
      "layout": "IPY_MODEL_7e2d00c09ca44501946417eb2737d2cc",
      "max": 3,
      "min": -1,
      "orientation": "horizontal",
      "readout": true,
      "readout_format": "d",
      "step": 1,
      "style": "IPY_MODEL_906069a1a4374b4c90cb039f76aa2e95",
      "value": 0
     }
    },
    "401719539f044bd791cf4b125a46699d": {
     "model_module": "@jupyter-widgets/controls",
     "model_name": "IntSliderModel",
     "state": {
      "_dom_classes": [],
      "_model_module": "@jupyter-widgets/controls",
      "_model_module_version": "1.5.0",
      "_model_name": "IntSliderModel",
      "_view_count": null,
      "_view_module": "@jupyter-widgets/controls",
      "_view_module_version": "1.5.0",
      "_view_name": "IntSliderView",
      "continuous_update": true,
      "description": "alfa",
      "description_tooltip": null,
      "disabled": false,
      "layout": "IPY_MODEL_d72f154e2a35477db8d91dca1b1c9df9",
      "max": 3,
      "min": -1,
      "orientation": "horizontal",
      "readout": true,
      "readout_format": "d",
      "step": 1,
      "style": "IPY_MODEL_9526df9c29c4474581075d967dc3dc1f",
      "value": 0
     }
    },
    "7e2d00c09ca44501946417eb2737d2cc": {
     "model_module": "@jupyter-widgets/base",
     "model_name": "LayoutModel",
     "state": {
      "_model_module": "@jupyter-widgets/base",
      "_model_module_version": "1.2.0",
      "_model_name": "LayoutModel",
      "_view_count": null,
      "_view_module": "@jupyter-widgets/base",
      "_view_module_version": "1.2.0",
      "_view_name": "LayoutView",
      "align_content": null,
      "align_items": null,
      "align_self": null,
      "border": null,
      "bottom": null,
      "display": null,
      "flex": null,
      "flex_flow": null,
      "grid_area": null,
      "grid_auto_columns": null,
      "grid_auto_flow": null,
      "grid_auto_rows": null,
      "grid_column": null,
      "grid_gap": null,
      "grid_row": null,
      "grid_template_areas": null,
      "grid_template_columns": null,
      "grid_template_rows": null,
      "height": null,
      "justify_content": null,
      "justify_items": null,
      "left": null,
      "margin": null,
      "max_height": null,
      "max_width": null,
      "min_height": null,
      "min_width": null,
      "object_fit": null,
      "object_position": null,
      "order": null,
      "overflow": null,
      "overflow_x": null,
      "overflow_y": null,
      "padding": null,
      "right": null,
      "top": null,
      "visibility": null,
      "width": null
     }
    },
    "906069a1a4374b4c90cb039f76aa2e95": {
     "model_module": "@jupyter-widgets/controls",
     "model_name": "SliderStyleModel",
     "state": {
      "_model_module": "@jupyter-widgets/controls",
      "_model_module_version": "1.5.0",
      "_model_name": "SliderStyleModel",
      "_view_count": null,
      "_view_module": "@jupyter-widgets/base",
      "_view_module_version": "1.2.0",
      "_view_name": "StyleView",
      "description_width": "",
      "handle_color": null
     }
    },
    "9526df9c29c4474581075d967dc3dc1f": {
     "model_module": "@jupyter-widgets/controls",
     "model_name": "SliderStyleModel",
     "state": {
      "_model_module": "@jupyter-widgets/controls",
      "_model_module_version": "1.5.0",
      "_model_name": "SliderStyleModel",
      "_view_count": null,
      "_view_module": "@jupyter-widgets/base",
      "_view_module_version": "1.2.0",
      "_view_name": "StyleView",
      "description_width": "",
      "handle_color": null
     }
    },
    "980cdff8cc32467aaf276a8dd8a096c2": {
     "model_module": "@jupyter-widgets/output",
     "model_name": "OutputModel",
     "state": {
      "_dom_classes": [],
      "_model_module": "@jupyter-widgets/output",
      "_model_module_version": "1.0.0",
      "_model_name": "OutputModel",
      "_view_count": null,
      "_view_module": "@jupyter-widgets/output",
      "_view_module_version": "1.0.0",
      "_view_name": "OutputView",
      "layout": "IPY_MODEL_0dbc956691dc40d8abb911be3243d97a",
      "msg_id": "",
      "outputs": [
       {
        "image/png": "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\n",
        "metadata": {
         "needs_background": "light",
         "tags": []
        },
        "output_type": "display_data",
        "text/plain": "<Figure size 720x360 with 1 Axes>"
       },
       {
        "image/png": "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\n",
        "metadata": {
         "needs_background": "light",
         "tags": []
        },
        "output_type": "display_data",
        "text/plain": "<Figure size 720x360 with 1 Axes>"
       }
      ]
     }
    },
    "ab13895ea165410186b7572fa2fc856a": {
     "model_module": "@jupyter-widgets/base",
     "model_name": "LayoutModel",
     "state": {
      "_model_module": "@jupyter-widgets/base",
      "_model_module_version": "1.2.0",
      "_model_name": "LayoutModel",
      "_view_count": null,
      "_view_module": "@jupyter-widgets/base",
      "_view_module_version": "1.2.0",
      "_view_name": "LayoutView",
      "align_content": null,
      "align_items": null,
      "align_self": null,
      "border": null,
      "bottom": null,
      "display": null,
      "flex": null,
      "flex_flow": null,
      "grid_area": null,
      "grid_auto_columns": null,
      "grid_auto_flow": null,
      "grid_auto_rows": null,
      "grid_column": null,
      "grid_gap": null,
      "grid_row": null,
      "grid_template_areas": null,
      "grid_template_columns": null,
      "grid_template_rows": null,
      "height": null,
      "justify_content": null,
      "justify_items": null,
      "left": null,
      "margin": null,
      "max_height": null,
      "max_width": null,
      "min_height": null,
      "min_width": null,
      "object_fit": null,
      "object_position": null,
      "order": null,
      "overflow": null,
      "overflow_x": null,
      "overflow_y": null,
      "padding": null,
      "right": null,
      "top": null,
      "visibility": null,
      "width": null
     }
    },
    "d72f154e2a35477db8d91dca1b1c9df9": {
     "model_module": "@jupyter-widgets/base",
     "model_name": "LayoutModel",
     "state": {
      "_model_module": "@jupyter-widgets/base",
      "_model_module_version": "1.2.0",
      "_model_name": "LayoutModel",
      "_view_count": null,
      "_view_module": "@jupyter-widgets/base",
      "_view_module_version": "1.2.0",
      "_view_name": "LayoutView",
      "align_content": null,
      "align_items": null,
      "align_self": null,
      "border": null,
      "bottom": null,
      "display": null,
      "flex": null,
      "flex_flow": null,
      "grid_area": null,
      "grid_auto_columns": null,
      "grid_auto_flow": null,
      "grid_auto_rows": null,
      "grid_column": null,
      "grid_gap": null,
      "grid_row": null,
      "grid_template_areas": null,
      "grid_template_columns": null,
      "grid_template_rows": null,
      "height": null,
      "justify_content": null,
      "justify_items": null,
      "left": null,
      "margin": null,
      "max_height": null,
      "max_width": null,
      "min_height": null,
      "min_width": null,
      "object_fit": null,
      "object_position": null,
      "order": null,
      "overflow": null,
      "overflow_x": null,
      "overflow_y": null,
      "padding": null,
      "right": null,
      "top": null,
      "visibility": null,
      "width": null
     }
    }
   }
  }
 },
 "nbformat": 4,
 "nbformat_minor": 1
}
