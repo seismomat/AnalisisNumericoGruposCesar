{
 "cells": [
  {
   "cell_type": "code",
   "execution_count": 3,
   "metadata": {},
   "outputs": [],
   "source": [
    "import numpy as np\n",
    "from numpy import linalg as LA\n",
    "import pandas as pd\n",
    "\n",
    "class Invertion:\n",
    "  ## A es un numpy array de dos dimensiones\n",
    "\n",
    "    def __init__(self, A):\n",
    "        self.A=A\n",
    "    \n",
    "    def QR(self):\n",
    "\n",
    "        self.Q=np.empty_like(self.A) ## matriz Q\n",
    "        self.R=np.zeros([self.A.shape[1],self.A.shape[1]]) ## matriz cuadrada\n",
    "\n",
    "        vi=np.zeros([self.A.shape[1]])\n",
    "\n",
    "        for i in range(self.A.shape[1]):\n",
    "            vi=self.A[:,i]\n",
    "\n",
    "            for j in range(i):\n",
    "                self.R[j,i]=np.dot(self.Q[:,j].T,vi)\n",
    "                vi = vi - self.R[j,i]*self.Q[:,j]\n",
    "                #vi = a2 - (q1T, a2)* q1\n",
    "            self.R[i,i]=np.linalg.norm(vi,2)\n",
    "            self.Q[:,i]=vi/self.R[i,i]\n",
    "\n",
    "\n",
    "        return self.Q,self.R"
   ]
  },
  {
   "cell_type": "markdown",
   "metadata": {},
   "source": [
    "$$A= \\left(\\begin{array}{ccc}\n",
    "1 & 1 & 1\\\\\n",
    "1 & 1 & 1\\\\\n",
    "1 & 1 & 1\n",
    "\\end{array}\\right)$$"
   ]
  },
  {
   "cell_type": "markdown",
   "metadata": {},
   "source": [
    "Tomamos una matriz perturbada de la forma \n",
    "\n",
    "$$\\tilde{A}= \\left(\\begin{array}{ccc}\n",
    "1 & 1 & 1 + \\epsilon\\\\\n",
    "1+\\epsilon & 1 & 1\\\\\n",
    "1 & 1 +\\epsilon & 1\n",
    "\\end{array}\\right)$$ \n",
    "\n",
    "con $\\epsilon$ pequeño. Tomando esta matriz perturbada, realice la factorización QR con el método de Grand Smith, para valores de $\\epsilon = 10^{-n}$ con $n=0,1,...,15$"
   ]
  },
  {
   "cell_type": "code",
   "execution_count": 4,
   "metadata": {},
   "outputs": [
    {
     "name": "stdout",
     "output_type": "stream",
     "text": [
      "     n           eps   Grand Smith\n",
      "0    0  1.000000e+00  5.091267e-16\n",
      "1    1  1.000000e-01  4.083399e-15\n",
      "2    2  1.000000e-02  1.747250e-14\n",
      "3    3  1.000000e-03  3.015834e-13\n",
      "4    4  1.000000e-04  2.995879e-12\n",
      "5    5  1.000000e-05  2.163501e-11\n",
      "6    6  1.000000e-06  8.854020e-11\n",
      "7    7  1.000000e-07  5.328293e-11\n",
      "8    8  1.000000e-08  3.440341e-08\n",
      "9    9  1.000000e-09  6.666667e-10\n",
      "10  10  1.000000e-10  6.666662e-11\n",
      "11  11  1.000000e-11  4.440892e-05\n",
      "12  12  1.000000e-12  2.960551e-04\n",
      "13  13  1.000000e-13  6.662564e-14\n",
      "14  14  1.000000e-14  6.677930e-15\n",
      "15  15  1.000000e-15  3.006584e-01\n"
     ]
    }
   ],
   "source": [
    "norm_Smith=[];epss=[];\n",
    "Id=np.eye(3)\n",
    "\n",
    "indices=np.arange(0,16)\n",
    "for i in indices:\n",
    "    A=np.ones((3,3))\n",
    "    eps=10**(-float(i))\n",
    "    epss.append(eps)\n",
    "    A[1,0]+=eps\n",
    "    A[0,2]+=eps\n",
    "    A[2,1]+=eps\n",
    "\n",
    "    method=Invertion(A)\n",
    "    Q_Smith,R_smith=method.QR()\n",
    "\n",
    "    norm_Smith.append(LA.norm(Q_Smith@Q_Smith.T - Id))\n",
    "    #Fac=NOSquareFacHouse(A)\n",
    "    #Q_House,R_House=Fac.HouseHolder()\n",
    "    #norm_House.append(LA.norm(Q_House@Q_House.T - Id))\n",
    "    #Fac=FactGivens(A)\n",
    "    #R_Giv,Q_Giv=Fac.Givens()\n",
    "    #norm_Giv.append(LA.norm(Q_Giv@Q_Giv.T - Id))\n",
    "\n",
    "dic={'n':indices,'eps':epss,'Grand Smith':norm_Smith}#,'HouseHolder':norm_House,'Givens':norm_Giv}\n",
    "\n",
    "Df=pd.DataFrame(dic)\n",
    "\n",
    "print(Df)"
   ]
  },
  {
   "cell_type": "code",
   "execution_count": 5,
   "metadata": {},
   "outputs": [
    {
     "data": {
      "text/plain": [
       "array([[ 0.57735027, -0.15430335,  0.74327765],\n",
       "       [ 0.57735027, -0.77151675, -0.50221463],\n",
       "       [ 0.57735027,  0.6172134 , -0.44194887]])"
      ]
     },
     "execution_count": 5,
     "metadata": {},
     "output_type": "execute_result"
    }
   ],
   "source": [
    "Q_Smith"
   ]
  },
  {
   "cell_type": "code",
   "execution_count": 6,
   "metadata": {},
   "outputs": [
    {
     "data": {
      "text/plain": [
       "1.240966293876636"
      ]
     },
     "execution_count": 6,
     "metadata": {},
     "output_type": "execute_result"
    }
   ],
   "source": [
    "LA.cond(Q_Smith)"
   ]
  },
  {
   "cell_type": "code",
   "execution_count": null,
   "metadata": {},
   "outputs": [],
   "source": []
  }
 ],
 "metadata": {
  "kernelspec": {
   "display_name": "Python 3 (ipykernel)",
   "language": "python",
   "name": "python3"
  },
  "language_info": {
   "codemirror_mode": {
    "name": "ipython",
    "version": 3
   },
   "file_extension": ".py",
   "mimetype": "text/x-python",
   "name": "python",
   "nbconvert_exporter": "python",
   "pygments_lexer": "ipython3",
   "version": "3.8.10"
  }
 },
 "nbformat": 4,
 "nbformat_minor": 4
}
