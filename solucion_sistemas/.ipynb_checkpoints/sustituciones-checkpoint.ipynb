{
 "cells": [
  {
   "cell_type": "markdown",
   "id": "b1c3514e",
   "metadata": {},
   "source": [
    "<font color=\"Teal\" face=\"Comic Sans MS,arial\">\n",
    "  <h1 align=\"center\"><i>Introducción a python</i></h1>\n",
    "  </font>\n",
    "  <font color=\"Black\" face=\"Comic Sans MS,arial\">\n",
    "  <h5 align=\"center\"><i>Profesor: M.en.C. César Carreón</i></h5>\n",
    "    <h5 align=\"center\"><i>Ayudante: Jesús Iván Coss Calderón</i></h5>\n",
    "    <h5 align=\"center\"><i>Materia: Análisis numérico</i></h5>\n",
    "  </font>"
   ]
  },
  {
   "cell_type": "markdown",
   "id": "dfda33b9",
   "metadata": {},
   "source": [
    "**Objetivo general**\n",
    "\n",
    "* Aprender los fundamentos de los algoritmos de sustitución.\n",
    "\n",
    "**Objetivos particulares**\n",
    "\n",
    "* Conocer el algoritmo de sustitución hacia delante.\n",
    "* Conocer el algoritmo de sustitución hacia atras."
   ]
  },
  {
   "cell_type": "markdown",
   "id": "92e48431",
   "metadata": {},
   "source": [
    "<a name='c1'></a>\n",
    "\n",
    "## Contenido\n",
    "\n",
    "- [Introducción](#1)\n",
    "- [Sustitución hacia delante](#2)\n",
    "    - [Comprobación](#2-1)\n",
    "- [Sustitución hacia atras](#3)\n",
    "    - [Comprobación](#3-1)\n",
    "    "
   ]
  },
  {
   "cell_type": "markdown",
   "id": "021f538c",
   "metadata": {},
   "source": [
    "<a name='1'></a>\n",
    "\n",
    "# Introducción "
   ]
  },
  {
   "cell_type": "markdown",
   "id": "f163c450",
   "metadata": {},
   "source": [
    "<a name='2'></a>\n",
    "\n",
    "# Sustitución hacia delante\n",
    "\n",
    "[regresar al contenido](#c1) "
   ]
  },
  {
   "cell_type": "code",
   "execution_count": 10,
   "id": "8b829eb3",
   "metadata": {},
   "outputs": [],
   "source": [
    "import numpy as np"
   ]
  },
  {
   "cell_type": "code",
   "execution_count": 11,
   "id": "0f6b92ff",
   "metadata": {},
   "outputs": [],
   "source": [
    "def sustDelante(L,b):\n",
    "    n=len(L)\n",
    "    y=np.empty_like(b)\n",
    "    y[0] = b[0]/L[0][0]\n",
    "    for i in range(1,n):\n",
    "        y[i] = b[i]\n",
    "        for j in range(0,i):\n",
    "            y[i] -= L[i][j]*y[j]\n",
    "        y[i] /= L[i][i]\n",
    "        \n",
    "    return y"
   ]
  },
  {
   "cell_type": "markdown",
   "id": "d5dd56ef",
   "metadata": {},
   "source": [
    "<a name='2-1'></a>\n",
    "\n",
    "# Comprobación\n",
    "\n",
    "[regresar al contenido](#c1) "
   ]
  },
  {
   "cell_type": "code",
   "execution_count": 12,
   "id": "ec67e0ef",
   "metadata": {},
   "outputs": [],
   "source": [
    "b=np.ones(3)\n",
    "up= np.array([[1,0,0],[-2,1,0],[-1,3,1]])"
   ]
  },
  {
   "cell_type": "code",
   "execution_count": 13,
   "id": "bf321469",
   "metadata": {},
   "outputs": [
    {
     "data": {
      "text/plain": [
       "array([ 1.,  3., -7.])"
      ]
     },
     "execution_count": 13,
     "metadata": {},
     "output_type": "execute_result"
    }
   ],
   "source": [
    "res1=sustDelante(up,b)\n",
    "res1"
   ]
  },
  {
   "cell_type": "code",
   "execution_count": 14,
   "id": "6bf30d98",
   "metadata": {},
   "outputs": [
    {
     "data": {
      "text/plain": [
       "array([ 1.,  3., -7.])"
      ]
     },
     "execution_count": 14,
     "metadata": {},
     "output_type": "execute_result"
    }
   ],
   "source": [
    "np.linalg.solve(up,b)"
   ]
  },
  {
   "cell_type": "markdown",
   "id": "6b946d96",
   "metadata": {},
   "source": [
    "<a name='3'></a>\n",
    "\n",
    "# Sustitución hacia atras\n",
    "\n",
    "[regresar al contenido](#c1) "
   ]
  },
  {
   "cell_type": "code",
   "execution_count": 15,
   "id": "993d9a7c",
   "metadata": {},
   "outputs": [],
   "source": [
    "def sustAtras(U,y):\n",
    "    n=len(U)\n",
    "    x=np.empty_like(y)\n",
    "    x[n-1] = y[n-1]/U[n-1][n-1]\n",
    "    for i in range(n-2,-1,-1):\n",
    "        x[i] = y[i]\n",
    "        for j in range(i+1,n):\n",
    "            x[i] -= U[i][j]*x[j]\n",
    "        x[i] /= U[i][i]\n",
    "\n",
    "    return x"
   ]
  },
  {
   "cell_type": "markdown",
   "id": "ac13e34c",
   "metadata": {},
   "source": [
    "<a name='3-1'></a>\n",
    "\n",
    "# Comprobación\n",
    "\n",
    "[regresar al contenido](#c1) "
   ]
  },
  {
   "cell_type": "code",
   "execution_count": 16,
   "id": "c3a9ea6c",
   "metadata": {},
   "outputs": [],
   "source": [
    "Low=np.array([[-4,-3,1],[0,5,1],[0,0,3]])\n",
    "b=np.ones(3)"
   ]
  },
  {
   "cell_type": "code",
   "execution_count": 17,
   "id": "3a8d4a46",
   "metadata": {},
   "outputs": [
    {
     "data": {
      "text/plain": [
       "array([-0.26666667,  0.13333333,  0.33333333])"
      ]
     },
     "execution_count": 17,
     "metadata": {},
     "output_type": "execute_result"
    }
   ],
   "source": [
    "res=sustAtras(Low,b)\n",
    "res"
   ]
  },
  {
   "cell_type": "code",
   "execution_count": 18,
   "id": "c201c452",
   "metadata": {},
   "outputs": [
    {
     "data": {
      "text/plain": [
       "array([-0.26666667,  0.13333333,  0.33333333])"
      ]
     },
     "execution_count": 18,
     "metadata": {},
     "output_type": "execute_result"
    }
   ],
   "source": [
    "np.linalg.solve(Low,b)"
   ]
  },
  {
   "cell_type": "code",
   "execution_count": null,
   "id": "3040bf95",
   "metadata": {},
   "outputs": [],
   "source": []
  }
 ],
 "metadata": {
  "kernelspec": {
   "display_name": "Python 3 (ipykernel)",
   "language": "python",
   "name": "python3"
  },
  "language_info": {
   "codemirror_mode": {
    "name": "ipython",
    "version": 3
   },
   "file_extension": ".py",
   "mimetype": "text/x-python",
   "name": "python",
   "nbconvert_exporter": "python",
   "pygments_lexer": "ipython3",
   "version": "3.8.10"
  }
 },
 "nbformat": 4,
 "nbformat_minor": 5
}
