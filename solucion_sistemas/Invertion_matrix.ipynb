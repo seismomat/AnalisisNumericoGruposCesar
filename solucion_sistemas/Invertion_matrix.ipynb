{
 "cells": [
  {
   "cell_type": "code",
   "execution_count": 1,
   "metadata": {
    "executionInfo": {
     "elapsed": 170,
     "status": "ok",
     "timestamp": 1637892923764,
     "user": {
      "displayName": "Iván CsCál",
      "photoUrl": "https://lh3.googleusercontent.com/a-/AOh14Gh4EAGdmKRFoLh5kUJZaxB3h7XaBXLEptS9jygGzw=s64",
      "userId": "13680463535271576262"
     },
     "user_tz": 360
    },
    "id": "-IHfoMt-42cY"
   },
   "outputs": [],
   "source": [
    "import numpy as np \n",
    "\n",
    "\n",
    "class Invertion:\n",
    "  ## A es un numpy array de dos dimensiones\n",
    "\n",
    "  def __init__(self, A):\n",
    "    self.A=A\n",
    "\n",
    "  def LU(self):\n",
    "    n=len(self.A) # dimension del arreglo \n",
    "\n",
    "    self.L=np.identity(n) # matriz identidad\n",
    "    self.U=np.copy(self.A) # el primer paso es U=A\n",
    "\n",
    "    for i in range(0,n):\n",
    "      for j in range(i+1,n):\n",
    "\n",
    "        factor= self.U[j][i]/ self.U[i][i]\n",
    "        self.L[j][i]=factor\n",
    "\n",
    "        for k in range(i,n):\n",
    "          self.U[j][k]= self.U[j][k]- factor*self.U[i][k]\n",
    "\n",
    "          #U[1][1] - factor * U[0][1]\n",
    "\n",
    "    return self.L,self.U\n",
    "\n",
    "  \n",
    "  def QR(self):\n",
    "\n",
    "    self.Q=np.empty_like(self.A) ## matriz Q\n",
    "    self.R=np.zeros([self.A.shape[1],self.A.shape[1]]) ## matriz cuadrada\n",
    "\n",
    "    vi=np.zeros([self.A.shape[1]])\n",
    "\n",
    "    for i in range(self.A.shape[1]):\n",
    "        vi=self.A[:,i]\n",
    "\n",
    "        for j in range(i):\n",
    "          self.R[j,i]=np.dot(self.Q[:,j].T,vi)\n",
    "          vi = vi - self.R[j,i]*self.Q[:,j]\n",
    "          #vi = a2 - (q1T, a2)* q1\n",
    "\n",
    "\n",
    "        self.R[i,i]=np.linalg.norm(vi,2)\n",
    "        self.Q[:,i]=vi/self.R[i,i]\n",
    "\n",
    "\n",
    "    return self.Q,self.R\n",
    "\n",
    "\n",
    "  def ElimGauss(self):  \n",
    "    N=self.A.shape[0]\n",
    "\n",
    "    for k in range(N):\n",
    "      pivot=self.A[k][k];\n",
    "      for j in range(k,N+1):\n",
    "        self.A[k][j]=self.A[k][j]/pivot;\n",
    "      for i in range(N):\n",
    "        if i != k:\n",
    "          d=self.A[i][k];\n",
    "          for m in range(k,N+1):\n",
    "            self.A[i][m]=self.A[i][m]-d*self.A[k][m];\n",
    "    for i in range(N):\n",
    "      print(\"x[%d]=%lf\\n\"%( i+1, self.A[i][N]));\n",
    "\n",
    "    print(self.A)\n",
    "    return \n",
    "\n",
    "\n",
    "\n",
    "  def Cholesky(self):\n",
    "    n=self.A.shape[0]\n",
    "    self.L=np.zeros_like(self.A)\n",
    "\n",
    "    for k in range(n):\n",
    "      for i in range(k+1):\n",
    "        if k==i:\n",
    "          sum=0.0\n",
    "          for j in range(k):\n",
    "            sum+= self.L[k][j]*self.L[k][j]\n",
    "          self.L[k][k]=np.sqrt(self.A[k][k]-sum)\n",
    "\n",
    "        else:\n",
    "          sum=0.0\n",
    "          for j in range(i):\n",
    "            sum+= self.L[i][j]*self.L[k][j]\n",
    "          self.L[k][i]=(self.A[k][i]-sum)/self.L[i][i]\n",
    "\n",
    "\n",
    "\n",
    "    return self.L\n",
    "\n"
   ]
  },
  {
   "cell_type": "code",
   "execution_count": 3,
   "metadata": {
    "colab": {
     "base_uri": "https://localhost:8080/"
    },
    "executionInfo": {
     "elapsed": 18,
     "status": "ok",
     "timestamp": 1637892923767,
     "user": {
      "displayName": "Iván CsCál",
      "photoUrl": "https://lh3.googleusercontent.com/a-/AOh14Gh4EAGdmKRFoLh5kUJZaxB3h7XaBXLEptS9jygGzw=s64",
      "userId": "13680463535271576262"
     },
     "user_tz": 360
    },
    "id": "TC5XGCpNWFqX",
    "outputId": "b3b4010f-81f8-4e0c-f0b5-853135307a07"
   },
   "outputs": [
    {
     "name": "stdout",
     "output_type": "stream",
     "text": [
      "[[ 2.44948974  0.          0.        ]\n",
      " [ 6.12372436  4.18330013  0.        ]\n",
      " [22.45365598 20.91650066  6.11010093]]\n"
     ]
    }
   ],
   "source": [
    "#A = np.array([[-1.0,-1.0,1.0],[1.0,3.0,3.0],[-1.0,-1.0,5.0],[1.0,3.0,7.0]])\n",
    "#A=np.array([[2.0, -1.0, 1.0, 2.0],[-1.0, 3.0, 3.0, 3.0],[2.0, 1.0, 4.0, 1.0]]) ## matriz eliminacion\n",
    "#LL = np.array([[1,0,0],[-2,1,0],[-1,3,1]])\n",
    "#UU = np.array([[-4,-3,1],[0,5,1],[0,0,3]])\n",
    "#A=LL@UU\n",
    "A = np.array([[6.0,15.0,55.0],[15.0,55.0,225.0],[55.0,225.0,979.0]])\n",
    "Inv=Invertion(A)\n",
    "\n",
    "\n",
    "L=Inv.Cholesky()\n",
    "\n",
    "print(L)\n",
    "\n",
    "\"\"\"L,U=Inv.LU()\n",
    "\n",
    "print(L)\n",
    "print()\n",
    "print(U)\n",
    "print()\n",
    "print(A)\n",
    "#Inv.ElimGauss()\"\"\""
   ]
  },
  {
   "cell_type": "code",
   "execution_count": null,
   "metadata": {
    "executionInfo": {
     "elapsed": 302,
     "status": "aborted",
     "timestamp": 1637892924219,
     "user": {
      "displayName": "Iván CsCál",
      "photoUrl": "https://lh3.googleusercontent.com/a-/AOh14Gh4EAGdmKRFoLh5kUJZaxB3h7XaBXLEptS9jygGzw=s64",
      "userId": "13680463535271576262"
     },
     "user_tz": 360
    },
    "id": "GpTaMotNLnca"
   },
   "outputs": [],
   "source": []
  }
 ],
 "metadata": {
  "colab": {
   "authorship_tag": "ABX9TyNRwb8tLGTL/BxvzP09OfEh",
   "collapsed_sections": [],
   "name": "Invertion_matrix.ipynb",
   "provenance": []
  },
  "kernelspec": {
   "display_name": "Python 3 (ipykernel)",
   "language": "python",
   "name": "python3"
  },
  "language_info": {
   "codemirror_mode": {
    "name": "ipython",
    "version": 3
   },
   "file_extension": ".py",
   "mimetype": "text/x-python",
   "name": "python",
   "nbconvert_exporter": "python",
   "pygments_lexer": "ipython3",
   "version": "3.8.10"
  }
 },
 "nbformat": 4,
 "nbformat_minor": 1
}
